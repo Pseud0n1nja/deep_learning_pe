{
 "cells": [
  {
   "cell_type": "code",
   "execution_count": 2,
   "metadata": {},
   "outputs": [],
   "source": [
    "import pandas as pd\n",
    "import numpy as np\n"
   ]
  },
  {
   "cell_type": "markdown",
   "metadata": {},
   "source": [
    "# Included dates"
   ]
  },
  {
   "cell_type": "code",
   "execution_count": 3,
   "metadata": {},
   "outputs": [],
   "source": [
    "files = ['GDP.csv', 'FEDFUNDS.csv', 'LIBOR.csv', 'MORTGAGE30US.csv', 'real_user_cost.csv', 'unemployment_rate.csv']"
   ]
  },
  {
   "cell_type": "code",
   "execution_count": 14,
   "metadata": {},
   "outputs": [],
   "source": [
    "gdp = pd.read_csv('indicator_data/GDP.csv')\n",
    "fedf = pd.read_csv('indicator_data/FEDFUNDS.csv')\n",
    "libor = pd.read_csv('indicator_data/LIBOR.csv')\n",
    "mort = pd.read_csv('indicator_data/MORTGAGE30US.csv')\n",
    "user_cost = pd.read_csv('indicator_data/real_user_cost.csv')\n",
    "unemp = pd.read_csv('indicator_data/unemployment_rate.csv')\n",
    "all_dates = list(gdp.DATE.values) + list(fedf.DATE.values) + list(libor.DATE.values) + list(mort.DATE.values) + list(user_cost.DATE.values) + list(unemp.DATE.values)"
   ]
  },
  {
   "cell_type": "markdown",
   "metadata": {},
   "source": [
    "# unique dates"
   ]
  },
  {
   "cell_type": "code",
   "execution_count": 20,
   "metadata": {},
   "outputs": [
    {
     "data": {
      "text/plain": [
       "7632"
      ]
     },
     "execution_count": 20,
     "metadata": {},
     "output_type": "execute_result"
    }
   ],
   "source": [
    "len(all_dates)"
   ]
  },
  {
   "cell_type": "code",
   "execution_count": 22,
   "metadata": {},
   "outputs": [],
   "source": [
    "def unique(all_dates): \n",
    "  \n",
    "    # intilize a null list \n",
    "    unique_list = [] \n",
    "      \n",
    "    # traverse for all elements \n",
    "    for x in all_dates: \n",
    "        # check if exists in unique_list or not \n",
    "        if x not in unique_list: \n",
    "            unique_list.append(x) \n",
    "    # return unique list\n",
    "    return unique_list"
   ]
  },
  {
   "cell_type": "code",
   "execution_count": 23,
   "metadata": {},
   "outputs": [],
   "source": [
    "unique_dates = unique(all_dates)"
   ]
  },
  {
   "cell_type": "code",
   "execution_count": 24,
   "metadata": {},
   "outputs": [
    {
     "data": {
      "text/plain": [
       "5782"
      ]
     },
     "execution_count": 24,
     "metadata": {},
     "output_type": "execute_result"
    }
   ],
   "source": [
    "len(unique_dates)"
   ]
  },
  {
   "cell_type": "markdown",
   "metadata": {},
   "source": [
    "# Combined "
   ]
  },
  {
   "cell_type": "code",
   "execution_count": 30,
   "metadata": {},
   "outputs": [],
   "source": [
    "#rework and left join\n",
    "def combined(dates):\n",
    "    l_comb = list()\n",
    "    df = pd.read_csv('indicator_data/GDP.csv')\n",
    "    files = ['FEDFUNDS.csv', 'LIBOR.csv', 'MORTGAGE30US.csv', 'real_user_cost.csv', 'unemployment_rate.csv']\n",
    "    for file in files:\n",
    "        temp = pd.read_csv('indicator_data/'+file)\n",
    "        trim_temp = temp[temp.DATE.isin(dates)].reset_index(drop=True)\n",
    "        df = df.merge(trim_temp, on='DATE', how='left')\n",
    "        \n",
    "    #output = pd.concat(l_comb, axis=1, sort=True)\n",
    "    return df"
   ]
  },
  {
   "cell_type": "code",
   "execution_count": 31,
   "metadata": {},
   "outputs": [],
   "source": [
    "combined_ind = combined(unique_dates)"
   ]
  },
  {
   "cell_type": "code",
   "execution_count": 32,
   "metadata": {},
   "outputs": [
    {
     "data": {
      "text/html": [
       "<div>\n",
       "<style scoped>\n",
       "    .dataframe tbody tr th:only-of-type {\n",
       "        vertical-align: middle;\n",
       "    }\n",
       "\n",
       "    .dataframe tbody tr th {\n",
       "        vertical-align: top;\n",
       "    }\n",
       "\n",
       "    .dataframe thead th {\n",
       "        text-align: right;\n",
       "    }\n",
       "</style>\n",
       "<table border=\"1\" class=\"dataframe\">\n",
       "  <thead>\n",
       "    <tr style=\"text-align: right;\">\n",
       "      <th></th>\n",
       "      <th>DATE</th>\n",
       "      <th>GDP</th>\n",
       "      <th>FEDFUNDS</th>\n",
       "      <th>USD1MTD156N</th>\n",
       "      <th>MORTGAGE30US</th>\n",
       "      <th>OCM1P</th>\n",
       "      <th>UNRATE</th>\n",
       "    </tr>\n",
       "  </thead>\n",
       "  <tbody>\n",
       "    <tr>\n",
       "      <th>0</th>\n",
       "      <td>1998-01-01</td>\n",
       "      <td>8866.480</td>\n",
       "      <td>NaN</td>\n",
       "      <td>NaN</td>\n",
       "      <td>NaN</td>\n",
       "      <td>0.0585</td>\n",
       "      <td>4.6</td>\n",
       "    </tr>\n",
       "    <tr>\n",
       "      <th>1</th>\n",
       "      <td>1998-04-01</td>\n",
       "      <td>8969.699</td>\n",
       "      <td>NaN</td>\n",
       "      <td>5.68750</td>\n",
       "      <td>NaN</td>\n",
       "      <td>0.0589</td>\n",
       "      <td>4.3</td>\n",
       "    </tr>\n",
       "    <tr>\n",
       "      <th>2</th>\n",
       "      <td>1998-07-01</td>\n",
       "      <td>9121.097</td>\n",
       "      <td>5.54</td>\n",
       "      <td>5.66016</td>\n",
       "      <td>NaN</td>\n",
       "      <td>0.0591</td>\n",
       "      <td>4.5</td>\n",
       "    </tr>\n",
       "    <tr>\n",
       "      <th>3</th>\n",
       "      <td>1998-10-01</td>\n",
       "      <td>9293.991</td>\n",
       "      <td>5.07</td>\n",
       "      <td>5.37500</td>\n",
       "      <td>NaN</td>\n",
       "      <td>0.0556</td>\n",
       "      <td>4.5</td>\n",
       "    </tr>\n",
       "    <tr>\n",
       "      <th>4</th>\n",
       "      <td>1999-01-01</td>\n",
       "      <td>9417.264</td>\n",
       "      <td>4.63</td>\n",
       "      <td>.</td>\n",
       "      <td>NaN</td>\n",
       "      <td>0.0531</td>\n",
       "      <td>4.3</td>\n",
       "    </tr>\n",
       "    <tr>\n",
       "      <th>...</th>\n",
       "      <td>...</td>\n",
       "      <td>...</td>\n",
       "      <td>...</td>\n",
       "      <td>...</td>\n",
       "      <td>...</td>\n",
       "      <td>...</td>\n",
       "      <td>...</td>\n",
       "    </tr>\n",
       "    <tr>\n",
       "      <th>82</th>\n",
       "      <td>2018-07-01</td>\n",
       "      <td>20749.752</td>\n",
       "      <td>1.91</td>\n",
       "      <td>NaN</td>\n",
       "      <td>NaN</td>\n",
       "      <td>NaN</td>\n",
       "      <td>3.9</td>\n",
       "    </tr>\n",
       "    <tr>\n",
       "      <th>83</th>\n",
       "      <td>2018-10-01</td>\n",
       "      <td>20897.804</td>\n",
       "      <td>2.19</td>\n",
       "      <td>2.26513</td>\n",
       "      <td>NaN</td>\n",
       "      <td>NaN</td>\n",
       "      <td>3.8</td>\n",
       "    </tr>\n",
       "    <tr>\n",
       "      <th>84</th>\n",
       "      <td>2019-01-01</td>\n",
       "      <td>21098.827</td>\n",
       "      <td>2.40</td>\n",
       "      <td>.</td>\n",
       "      <td>NaN</td>\n",
       "      <td>NaN</td>\n",
       "      <td>4.0</td>\n",
       "    </tr>\n",
       "    <tr>\n",
       "      <th>85</th>\n",
       "      <td>2019-04-01</td>\n",
       "      <td>21340.267</td>\n",
       "      <td>2.42</td>\n",
       "      <td>2.49338</td>\n",
       "      <td>NaN</td>\n",
       "      <td>NaN</td>\n",
       "      <td>3.6</td>\n",
       "    </tr>\n",
       "    <tr>\n",
       "      <th>86</th>\n",
       "      <td>2019-07-01</td>\n",
       "      <td>21525.819</td>\n",
       "      <td>2.40</td>\n",
       "      <td>2.38775</td>\n",
       "      <td>NaN</td>\n",
       "      <td>NaN</td>\n",
       "      <td>3.7</td>\n",
       "    </tr>\n",
       "  </tbody>\n",
       "</table>\n",
       "<p>87 rows × 7 columns</p>\n",
       "</div>"
      ],
      "text/plain": [
       "          DATE        GDP  FEDFUNDS USD1MTD156N  MORTGAGE30US   OCM1P  UNRATE\n",
       "0   1998-01-01   8866.480       NaN         NaN           NaN  0.0585     4.6\n",
       "1   1998-04-01   8969.699       NaN     5.68750           NaN  0.0589     4.3\n",
       "2   1998-07-01   9121.097      5.54     5.66016           NaN  0.0591     4.5\n",
       "3   1998-10-01   9293.991      5.07     5.37500           NaN  0.0556     4.5\n",
       "4   1999-01-01   9417.264      4.63           .           NaN  0.0531     4.3\n",
       "..         ...        ...       ...         ...           ...     ...     ...\n",
       "82  2018-07-01  20749.752      1.91         NaN           NaN     NaN     3.9\n",
       "83  2018-10-01  20897.804      2.19     2.26513           NaN     NaN     3.8\n",
       "84  2019-01-01  21098.827      2.40           .           NaN     NaN     4.0\n",
       "85  2019-04-01  21340.267      2.42     2.49338           NaN     NaN     3.6\n",
       "86  2019-07-01  21525.819      2.40     2.38775           NaN     NaN     3.7\n",
       "\n",
       "[87 rows x 7 columns]"
      ]
     },
     "execution_count": 32,
     "metadata": {},
     "output_type": "execute_result"
    }
   ],
   "source": [
    "combined_ind"
   ]
  },
  {
   "cell_type": "code",
   "execution_count": 33,
   "metadata": {},
   "outputs": [],
   "source": [
    "combined_ind.columns = ['DATE', 'GDP', 'FEDFUNDS', 'LIBOR', 'MORTGAGE30US', 'REAL_USER_COST', 'UNEMPLOYMENT_RT']"
   ]
  },
  {
   "cell_type": "markdown",
   "metadata": {},
   "source": [
    "# Output"
   ]
  },
  {
   "cell_type": "code",
   "execution_count": 58,
   "metadata": {},
   "outputs": [],
   "source": [
    "combined_ind.to_csv('combined_indicators.csv')"
   ]
  }
 ],
 "metadata": {
  "kernelspec": {
   "display_name": "Python 3",
   "language": "python",
   "name": "python3"
  },
  "language_info": {
   "codemirror_mode": {
    "name": "ipython",
    "version": 3
   },
   "file_extension": ".py",
   "mimetype": "text/x-python",
   "name": "python",
   "nbconvert_exporter": "python",
   "pygments_lexer": "ipython3",
   "version": "3.7.4"
  }
 },
 "nbformat": 4,
 "nbformat_minor": 4
}
